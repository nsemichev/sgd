{
 "cells": [
  {
   "cell_type": "code",
   "execution_count": 1,
   "metadata": {
    "collapsed": true
   },
   "outputs": [],
   "source": [
    "import numpy as np \n",
    "\n",
    "def generate_data(num_datapoints=10000, num_features=10):\n",
    "\tdata = np.random.uniform(-1.0, 1.0, (num_datapoints, num_features+1))\n",
    "\tweights = np.zeros((num_features, 1))\n",
    "\treturn data, weights\n",
    "\n",
    "def train(data, weights, step_size=1.0, batch_fraction=1.0, num_iterations=100):\n",
    "\tprint(compute_cost(data, weights))\n",
    "\tcomputed_weights = weights\n",
    "\tbatch_size = int(batch_fraction*len(data))\n",
    "\terror_over_time = np.zeros(num_iterations)\n",
    "\tfor i in range(0, num_iterations):\n",
    "\t\tnp.random.shuffle(data)\n",
    "\t\tx = data[:, 0:len(weights)]\n",
    "\t\ty = data[:, len(weights):len(weights)+1]\n",
    "\t\tfor j in range(0, len(y), batch_size):\n",
    "\t\t\tif(j+batch_size - 1 >= len(y)):\n",
    "\t\t\t\tbreak\n",
    "\t\t\tcomputed_weights -= step_size/batch_size*(np.dot((x[[j,j+batch_size-1], :]).transpose(), np.dot(x[[j,j+batch_size-1], :], computed_weights)-y[[j,j+batch_size-1], :]))\n",
    "\t\terror_over_time[i] = compute_cost(data, computed_weights)\n",
    "\n",
    "\treturn error_over_time, computed_weights\n",
    "\n",
    "def normal_equation(data):\n",
    "\tx = data[:, 0:len(data[0])-1]\n",
    "\ty = data[:, len(data[0])-1:len(data[0])]\n",
    "\treturn np.dot(np.dot(np.linalg.pinv(np.dot(x.transpose(), x)), x.transpose()), y)\n",
    "\n",
    "def compute_cost(data, weights):\n",
    "\tx = data[:, 0:len(weights)]\n",
    "\ty = data[:, len(weights):len(weights)+1]\n",
    "\treturn np.sum(np.square(np.dot(x, weights)-y))/(2.0*len(y))\n",
    "\n",
    "def main():\n",
    "\tdata, weights = generate_data()\n",
    "\terrors, sgd_model_weights = train(data, weights)\n",
    "\toptimal_weights = normal_equation(data)\n",
    "\tprint(optimal_weights)\n",
    "\tprint(\"\\n\")\n",
    "\tprint(sgd_model_weights)\n",
    "\tprint(\"\\n\")\n",
    "\tprint(\"Cost using optimal weights: \" + str(compute_cost(data, optimal_weights)))\n",
    "\tprint(\"Cost using stochastic model weights: \" + str(compute_cost(data, sgd_model_weights)))\n"
   ]
  },
  {
   "cell_type": "code",
   "execution_count": 2,
   "metadata": {},
   "outputs": [
    {
     "name": "stdout",
     "output_type": "stream",
     "text": [
      "0.165097910654\n",
      "[[-0.01602573]\n",
      " [-0.00843554]\n",
      " [-0.00545261]\n",
      " [-0.01886603]\n",
      " [ 0.02188423]\n",
      " [-0.00053158]\n",
      " [ 0.02374471]\n",
      " [-0.00138453]\n",
      " [ 0.00335536]\n",
      " [-0.0115942 ]]\n",
      "\n",
      "\n",
      "[[-0.00028137]\n",
      " [-0.00010814]\n",
      " [ 0.00046824]\n",
      " [ 0.00097484]\n",
      " [-0.00027046]\n",
      " [-0.00018479]\n",
      " [ 0.00061121]\n",
      " [ 0.00021067]\n",
      " [ 0.00069026]\n",
      " [-0.00106881]]\n",
      "\n",
      "\n",
      "Cost using optimal weights: 0.164785740122\n",
      "Cost using stochastic model weights: 0.16509589349\n"
     ]
    }
   ],
   "source": [
    "main()"
   ]
  },
  {
   "cell_type": "code",
   "execution_count": null,
   "metadata": {
    "collapsed": true
   },
   "outputs": [],
   "source": []
  }
 ],
 "metadata": {
  "kernelspec": {
   "display_name": "Python 2",
   "language": "python",
   "name": "python2"
  },
  "language_info": {
   "codemirror_mode": {
    "name": "ipython",
    "version": 2
   },
   "file_extension": ".py",
   "mimetype": "text/x-python",
   "name": "python",
   "nbconvert_exporter": "python",
   "pygments_lexer": "ipython2",
   "version": "2.7.13"
  }
 },
 "nbformat": 4,
 "nbformat_minor": 2
}
